{
 "cells": [
  {
   "cell_type": "markdown",
   "metadata": {},
   "source": [
    "## Intro\n",
    "\n",
    "The general objective is replicating the data points showed in ESL (Elements of Statistical Learning) book using Python instead of R in the graduate course **Statistical Learning** instructed by professor Dr. Tamer Oraby in The University of Texas Rio Grande Valley. \n",
    "\n",
    "The basic idea is using top machine learning libraries in Python such as Numpy and Tensorflow (this one better) instead of the coding in R performed at class. So, the principal goal to creating a mirror code based on the class."
   ]
  },
  {
   "cell_type": "markdown",
   "metadata": {},
   "source": [
    "## Exploration"
   ]
  },
  {
   "cell_type": "code",
   "execution_count": 1,
   "metadata": {},
   "outputs": [
    {
     "name": "stderr",
     "output_type": "stream",
     "text": [
      "2024-03-21 15:53:32.585820: I tensorflow/core/platform/cpu_feature_guard.cc:182] This TensorFlow binary is optimized to use available CPU instructions in performance-critical operations.\n",
      "To enable the following instructions: AVX2 FMA, in other operations, rebuild TensorFlow with the appropriate compiler flags.\n",
      "2024-03-21 15:53:36.030204: W tensorflow/compiler/tf2tensorrt/utils/py_utils.cc:38] TF-TRT Warning: Could not find TensorRT\n"
     ]
    }
   ],
   "source": [
    "# importing general libraries\n",
    "import random\n",
    "import numpy as np\n",
    "import numpy.random as npr\n",
    "import tensorflow as tf\n",
    "import pandas as pd\n",
    "\n"
   ]
  },
  {
   "cell_type": "markdown",
   "metadata": {},
   "source": [
    "The general idea is coding on jupyter notebooks, and the seed management might be set cell by cell. Nevertheless, using a complete python script, there is just need to call the seed once."
   ]
  },
  {
   "cell_type": "code",
   "execution_count": 2,
   "metadata": {},
   "outputs": [],
   "source": [
    "# setting seeds\n",
    "random.seed(96)\n",
    "npr.seed(96)"
   ]
  },
  {
   "cell_type": "code",
   "execution_count": 35,
   "metadata": {},
   "outputs": [
    {
     "data": {
      "text/plain": [
       "array([[ 1.06984777, -0.04866513],\n",
       "       [ 0.34025379,  0.35736923],\n",
       "       [ 1.13203993, -0.86841854],\n",
       "       [ 0.47984708,  0.08056762],\n",
       "       [-0.20220815, -0.99686509],\n",
       "       [-0.93034998,  0.10395258],\n",
       "       [ 0.20614499, -0.43662182],\n",
       "       [ 0.90281127, -0.44721525],\n",
       "       [ 1.62602389,  0.43533254],\n",
       "       [ 1.25184462,  0.08354337]])"
      ]
     },
     "execution_count": 35,
     "metadata": {},
     "output_type": "execute_result"
    }
   ],
   "source": [
    "# setting seeds for replication\n",
    "random.seed(96)\n",
    "npr.seed(96)\n",
    "\n",
    "mean_blue = npr.multivariate_normal(\n",
    "    size = 10,\n",
    "    mean = np.array([1,0]),\n",
    "    cov = np.identity(2) ## this 2D vector provides the 2D dimensionality to the the outcome vector (10x2)\n",
    ")\n",
    "mean_blue"
   ]
  },
  {
   "cell_type": "code",
   "execution_count": 36,
   "metadata": {},
   "outputs": [
    {
     "data": {
      "text/html": [
       "<div>\n",
       "<style scoped>\n",
       "    .dataframe tbody tr th:only-of-type {\n",
       "        vertical-align: middle;\n",
       "    }\n",
       "\n",
       "    .dataframe tbody tr th {\n",
       "        vertical-align: top;\n",
       "    }\n",
       "\n",
       "    .dataframe thead th {\n",
       "        text-align: right;\n",
       "    }\n",
       "</style>\n",
       "<table border=\"1\" class=\"dataframe\">\n",
       "  <thead>\n",
       "    <tr style=\"text-align: right;\">\n",
       "      <th></th>\n",
       "      <th>cx</th>\n",
       "      <th>cy</th>\n",
       "    </tr>\n",
       "  </thead>\n",
       "  <tbody>\n",
       "    <tr>\n",
       "      <th>0</th>\n",
       "      <td>1.069848</td>\n",
       "      <td>-0.048665</td>\n",
       "    </tr>\n",
       "    <tr>\n",
       "      <th>1</th>\n",
       "      <td>0.340254</td>\n",
       "      <td>0.357369</td>\n",
       "    </tr>\n",
       "    <tr>\n",
       "      <th>2</th>\n",
       "      <td>1.132040</td>\n",
       "      <td>-0.868419</td>\n",
       "    </tr>\n",
       "    <tr>\n",
       "      <th>3</th>\n",
       "      <td>0.479847</td>\n",
       "      <td>0.080568</td>\n",
       "    </tr>\n",
       "    <tr>\n",
       "      <th>4</th>\n",
       "      <td>-0.202208</td>\n",
       "      <td>-0.996865</td>\n",
       "    </tr>\n",
       "    <tr>\n",
       "      <th>5</th>\n",
       "      <td>-0.930350</td>\n",
       "      <td>0.103953</td>\n",
       "    </tr>\n",
       "    <tr>\n",
       "      <th>6</th>\n",
       "      <td>0.206145</td>\n",
       "      <td>-0.436622</td>\n",
       "    </tr>\n",
       "    <tr>\n",
       "      <th>7</th>\n",
       "      <td>0.902811</td>\n",
       "      <td>-0.447215</td>\n",
       "    </tr>\n",
       "    <tr>\n",
       "      <th>8</th>\n",
       "      <td>1.626024</td>\n",
       "      <td>0.435333</td>\n",
       "    </tr>\n",
       "    <tr>\n",
       "      <th>9</th>\n",
       "      <td>1.251845</td>\n",
       "      <td>0.083543</td>\n",
       "    </tr>\n",
       "  </tbody>\n",
       "</table>\n",
       "</div>"
      ],
      "text/plain": [
       "         cx        cy\n",
       "0  1.069848 -0.048665\n",
       "1  0.340254  0.357369\n",
       "2  1.132040 -0.868419\n",
       "3  0.479847  0.080568\n",
       "4 -0.202208 -0.996865\n",
       "5 -0.930350  0.103953\n",
       "6  0.206145 -0.436622\n",
       "7  0.902811 -0.447215\n",
       "8  1.626024  0.435333\n",
       "9  1.251845  0.083543"
      ]
     },
     "execution_count": 36,
     "metadata": {},
     "output_type": "execute_result"
    }
   ],
   "source": [
    "df_mean_blue = pd.DataFrame(\n",
    "    data = mean_blue,\n",
    "    columns = ['cx','cy']\n",
    ")\n",
    "df_mean_blue"
   ]
  },
  {
   "cell_type": "code",
   "execution_count": 37,
   "metadata": {},
   "outputs": [
    {
     "data": {
      "text/plain": [
       "(10, 2)"
      ]
     },
     "execution_count": 37,
     "metadata": {},
     "output_type": "execute_result"
    }
   ],
   "source": [
    "# setting seeds for replication purposes\n",
    "random.seed(96)\n",
    "npr.seed(96)\n",
    "\n",
    "mean_orange = npr.multivariate_normal(\n",
    "    size = 10,\n",
    "    mean = np.array([0,1]),\n",
    "    cov = np.identity(2) ## this 2D vector provides the 2D dimensionality to the the outcome vector (10x2)\n",
    ")\n",
    "mean_orange.shape"
   ]
  },
  {
   "cell_type": "code",
   "execution_count": 38,
   "metadata": {},
   "outputs": [
    {
     "data": {
      "text/html": [
       "<div>\n",
       "<style scoped>\n",
       "    .dataframe tbody tr th:only-of-type {\n",
       "        vertical-align: middle;\n",
       "    }\n",
       "\n",
       "    .dataframe tbody tr th {\n",
       "        vertical-align: top;\n",
       "    }\n",
       "\n",
       "    .dataframe thead th {\n",
       "        text-align: right;\n",
       "    }\n",
       "</style>\n",
       "<table border=\"1\" class=\"dataframe\">\n",
       "  <thead>\n",
       "    <tr style=\"text-align: right;\">\n",
       "      <th></th>\n",
       "      <th>cx</th>\n",
       "      <th>cy</th>\n",
       "    </tr>\n",
       "  </thead>\n",
       "  <tbody>\n",
       "    <tr>\n",
       "      <th>0</th>\n",
       "      <td>0.069848</td>\n",
       "      <td>0.951335</td>\n",
       "    </tr>\n",
       "    <tr>\n",
       "      <th>1</th>\n",
       "      <td>-0.659746</td>\n",
       "      <td>1.357369</td>\n",
       "    </tr>\n",
       "    <tr>\n",
       "      <th>2</th>\n",
       "      <td>0.132040</td>\n",
       "      <td>0.131581</td>\n",
       "    </tr>\n",
       "    <tr>\n",
       "      <th>3</th>\n",
       "      <td>-0.520153</td>\n",
       "      <td>1.080568</td>\n",
       "    </tr>\n",
       "    <tr>\n",
       "      <th>4</th>\n",
       "      <td>-1.202208</td>\n",
       "      <td>0.003135</td>\n",
       "    </tr>\n",
       "    <tr>\n",
       "      <th>5</th>\n",
       "      <td>-1.930350</td>\n",
       "      <td>1.103953</td>\n",
       "    </tr>\n",
       "    <tr>\n",
       "      <th>6</th>\n",
       "      <td>-0.793855</td>\n",
       "      <td>0.563378</td>\n",
       "    </tr>\n",
       "    <tr>\n",
       "      <th>7</th>\n",
       "      <td>-0.097189</td>\n",
       "      <td>0.552785</td>\n",
       "    </tr>\n",
       "    <tr>\n",
       "      <th>8</th>\n",
       "      <td>0.626024</td>\n",
       "      <td>1.435333</td>\n",
       "    </tr>\n",
       "    <tr>\n",
       "      <th>9</th>\n",
       "      <td>0.251845</td>\n",
       "      <td>1.083543</td>\n",
       "    </tr>\n",
       "  </tbody>\n",
       "</table>\n",
       "</div>"
      ],
      "text/plain": [
       "         cx        cy\n",
       "0  0.069848  0.951335\n",
       "1 -0.659746  1.357369\n",
       "2  0.132040  0.131581\n",
       "3 -0.520153  1.080568\n",
       "4 -1.202208  0.003135\n",
       "5 -1.930350  1.103953\n",
       "6 -0.793855  0.563378\n",
       "7 -0.097189  0.552785\n",
       "8  0.626024  1.435333\n",
       "9  0.251845  1.083543"
      ]
     },
     "execution_count": 38,
     "metadata": {},
     "output_type": "execute_result"
    }
   ],
   "source": [
    "df_mean_orange = pd.DataFrame(\n",
    "    data = mean_orange,\n",
    "    columns = ['cx','cy']\n",
    ")\n",
    "df_mean_orange"
   ]
  },
  {
   "cell_type": "markdown",
   "metadata": {},
   "source": [
    "## plotting"
   ]
  },
  {
   "cell_type": "code",
   "execution_count": 7,
   "metadata": {},
   "outputs": [],
   "source": [
    "# importing plotting libraries\n",
    "from plotnine import * \n",
    "import matplotlib.pyplot as plt"
   ]
  },
  {
   "cell_type": "code",
   "execution_count": 8,
   "metadata": {},
   "outputs": [
    {
     "data": {
      "image/png": "[encoded data removed]",
      "text/plain": [
       "<Figure size 640x480 with 1 Axes>"
      ]
     },
     "metadata": {},
     "output_type": "display_data"
    }
   ],
   "source": [
    "## creating the same theme as used in R\n",
    "plt.style.use('ggplot')\n",
    "\n",
    "plt_mean_blue = df_mean_blue.plot.scatter(\n",
    "    x = 'cx',\n",
    "    y = 'cy',\n",
    "    c = 'blue'\n",
    ")\n",
    "plt.show()"
   ]
  },
  {
   "cell_type": "code",
   "execution_count": 9,
   "metadata": {},
   "outputs": [
    {
     "data": {
      "image/png": "[encoded data removed]"
     },
     "metadata": {
      "image/png": {
       "height": 480,
       "width": 640
      }
     },
     "output_type": "display_data"
    }
   ],
   "source": [
    "ggplot_mean_blue = ggplot(df_mean_blue) + aes(x= 'cx', y='cy') + geom_point(colour=\"blue\") + xlab('x') + ylab('y')\n",
    "ggplot_mean_blue"
   ]
  },
  {
   "cell_type": "code",
   "execution_count": 10,
   "metadata": {},
   "outputs": [
    {
     "data": {
      "image/png": "[encoded data removed]",
      "text/plain": [
       "<Figure size 640x480 with 1 Axes>"
      ]
     },
     "metadata": {},
     "output_type": "display_data"
    }
   ],
   "source": [
    "## creating the same theme as used in R using matplotlib.pyplot\n",
    "plt.style.use('ggplot')\n",
    "\n",
    "plt_mean_orange = df_mean_orange.plot.scatter(\n",
    "    x = 'cx',\n",
    "    y = 'cy',\n",
    "    c = 'orange'\n",
    ")\n",
    "plt.show()"
   ]
  },
  {
   "cell_type": "code",
   "execution_count": 11,
   "metadata": {},
   "outputs": [
    {
     "data": {
      "image/png": "[encoded data removed]"
     },
     "metadata": {
      "image/png": {
       "height": 480,
       "width": 640
      }
     },
     "output_type": "display_data"
    }
   ],
   "source": [
    "ggplot_mean_orange = ggplot(df_mean_orange) + aes(x= 'cx', y='cy') + geom_point(colour=\"orange\") + xlab('x') + ylab('y')\n",
    "ggplot_mean_orange"
   ]
  },
  {
   "cell_type": "markdown",
   "metadata": {},
   "source": [
    "### joining plots"
   ]
  },
  {
   "cell_type": "code",
   "execution_count": 12,
   "metadata": {},
   "outputs": [
    {
     "data": {
      "image/png": "[encoded data removed]",
      "text/plain": [
       "<Figure size 640x480 with 1 Axes>"
      ]
     },
     "metadata": {},
     "output_type": "display_data"
    }
   ],
   "source": [
    "fig, ax = plt.subplots()\n",
    "\n",
    "df_mean_blue.plot.scatter(\n",
    "    x = 'cx',\n",
    "    y = 'cy',\n",
    "    c = 'blue',\n",
    "    ax=ax\n",
    ")\n",
    "df_mean_orange.plot.scatter(\n",
    "    x = 'cx',\n",
    "    y = 'cy',\n",
    "    c = 'orange',\n",
    "    ax=ax\n",
    ")\n",
    "\n",
    "plt.show()\n"
   ]
  },
  {
   "cell_type": "code",
   "execution_count": 13,
   "metadata": {},
   "outputs": [
    {
     "data": {
      "image/png": "[encoded data removed]"
     },
     "metadata": {
      "image/png": {
       "height": 480,
       "width": 640
      }
     },
     "output_type": "display_data"
    }
   ],
   "source": [
    "ggplot_mean_blue + geom_point(data=df_mean_orange, colour='orange') + aes(x='cx', y='cy') + xlab('x') + ylab('y')"
   ]
  },
  {
   "cell_type": "markdown",
   "metadata": {},
   "source": [
    "## Modeling\n",
    "\n",
    "Here we set up some tricks from the python built-in methods for avoiding for-loops as much as possible same Dr. Oraby aimed in the Statistical Learning course."
   ]
  },
  {
   "cell_type": "code",
   "execution_count": 43,
   "metadata": {},
   "outputs": [
    {
     "data": {
      "text/plain": [
       "array([[0.2, 0. ],\n",
       "       [0. , 0.2]])"
      ]
     },
     "execution_count": 43,
     "metadata": {},
     "output_type": "execute_result"
    }
   ],
   "source": [
    "data_cov"
   ]
  },
  {
   "cell_type": "code",
   "execution_count": 44,
   "metadata": {},
   "outputs": [],
   "source": [
    "# setting seeds\n",
    "random.seed(96)\n",
    "npr.seed(96)\n",
    "\n",
    "# setting variables for multivariate matrix\n",
    "data_mean_blue = mean_blue[npr.randint(mean_blue.shape[0]),]\n",
    "data_mean_orange = mean_orange[npr.randint(mean_orange.shape[0]),]\n",
    "data_cov = (np.identity(2) / 5)\n",
    "\n",
    "\n",
    "## here we use map function over a vector of length iterations to simulate repeat function in R\n",
    "## example: np.array(list(map(lambda _: [np.random.randint(7),0], [None]*iterations)))\n",
    "N = 200\n",
    "data_blue = np.array(\n",
    "    list(\n",
    "        map(\n",
    "            lambda _: \n",
    "                np.append(\n",
    "                    npr.multivariate_normal(\n",
    "                        size = 1,\n",
    "                        mean = data_mean_blue,\n",
    "                        cov = data_cov\n",
    "                    )\n",
    "                ,0), [None]*N\n",
    "        )\n",
    "    )\n",
    ")\n",
    "\n",
    "data_orange = np.array(\n",
    "    list(\n",
    "        map(\n",
    "            lambda _: \n",
    "                np.append(npr.multivariate_normal(\n",
    "                size = 1,\n",
    "                mean = data_mean_orange,\n",
    "                cov = data_cov\n",
    "                ),1), [None]*N\n",
    "        )\n",
    "    )\n",
    ")\n"
   ]
  },
  {
   "cell_type": "code",
   "execution_count": 45,
   "metadata": {},
   "outputs": [],
   "source": [
    "# storing the data as data frames\n",
    "\n",
    "data_blue = pd.DataFrame(data=data_blue, columns = ['cx', 'cy', 'Y'])\n",
    "data_orange = pd.DataFrame(data=data_orange, columns = ['cx', 'cy', 'Y'])"
   ]
  },
  {
   "cell_type": "markdown",
   "metadata": {},
   "source": [
    "**Note:** In jupyter notebooks, in case there is need to remove created variables we can use _%reset_selective <variables>_ command."
   ]
  },
  {
   "cell_type": "code",
   "execution_count": 66,
   "metadata": {},
   "outputs": [],
   "source": [
    "# joining data frames\n",
    "mix_data = pd.concat([data_blue,data_orange], ignore_index = True, axis = 0)"
   ]
  },
  {
   "cell_type": "code",
   "execution_count": 67,
   "metadata": {},
   "outputs": [
    {
     "data": {
      "text/html": [
       "<div>\n",
       "<style scoped>\n",
       "    .dataframe tbody tr th:only-of-type {\n",
       "        vertical-align: middle;\n",
       "    }\n",
       "\n",
       "    .dataframe tbody tr th {\n",
       "        vertical-align: top;\n",
       "    }\n",
       "\n",
       "    .dataframe thead th {\n",
       "        text-align: right;\n",
       "    }\n",
       "</style>\n",
       "<table border=\"1\" class=\"dataframe\">\n",
       "  <thead>\n",
       "    <tr style=\"text-align: right;\">\n",
       "      <th></th>\n",
       "      <th>cx</th>\n",
       "      <th>cy</th>\n",
       "      <th>Y</th>\n",
       "    </tr>\n",
       "  </thead>\n",
       "  <tbody>\n",
       "    <tr>\n",
       "      <th>0</th>\n",
       "      <td>-0.265544</td>\n",
       "      <td>-0.483635</td>\n",
       "      <td>0.0</td>\n",
       "    </tr>\n",
       "    <tr>\n",
       "      <th>1</th>\n",
       "      <td>-1.522837</td>\n",
       "      <td>0.997454</td>\n",
       "      <td>1.0</td>\n",
       "    </tr>\n",
       "    <tr>\n",
       "      <th>2</th>\n",
       "      <td>-0.095303</td>\n",
       "      <td>-0.529834</td>\n",
       "      <td>0.0</td>\n",
       "    </tr>\n",
       "    <tr>\n",
       "      <th>3</th>\n",
       "      <td>-0.429226</td>\n",
       "      <td>-0.794303</td>\n",
       "      <td>0.0</td>\n",
       "    </tr>\n",
       "    <tr>\n",
       "      <th>4</th>\n",
       "      <td>-0.464034</td>\n",
       "      <td>-0.540052</td>\n",
       "      <td>0.0</td>\n",
       "    </tr>\n",
       "    <tr>\n",
       "      <th>...</th>\n",
       "      <td>...</td>\n",
       "      <td>...</td>\n",
       "      <td>...</td>\n",
       "    </tr>\n",
       "    <tr>\n",
       "      <th>395</th>\n",
       "      <td>-0.175511</td>\n",
       "      <td>-0.736175</td>\n",
       "      <td>0.0</td>\n",
       "    </tr>\n",
       "    <tr>\n",
       "      <th>396</th>\n",
       "      <td>-0.647900</td>\n",
       "      <td>0.491626</td>\n",
       "      <td>1.0</td>\n",
       "    </tr>\n",
       "    <tr>\n",
       "      <th>397</th>\n",
       "      <td>-1.354816</td>\n",
       "      <td>-1.499104</td>\n",
       "      <td>0.0</td>\n",
       "    </tr>\n",
       "    <tr>\n",
       "      <th>398</th>\n",
       "      <td>-0.340094</td>\n",
       "      <td>-0.580274</td>\n",
       "      <td>0.0</td>\n",
       "    </tr>\n",
       "    <tr>\n",
       "      <th>399</th>\n",
       "      <td>-0.088466</td>\n",
       "      <td>0.717414</td>\n",
       "      <td>1.0</td>\n",
       "    </tr>\n",
       "  </tbody>\n",
       "</table>\n",
       "<p>400 rows × 3 columns</p>\n",
       "</div>"
      ],
      "text/plain": [
       "           cx        cy    Y\n",
       "0   -0.265544 -0.483635  0.0\n",
       "1   -1.522837  0.997454  1.0\n",
       "2   -0.095303 -0.529834  0.0\n",
       "3   -0.429226 -0.794303  0.0\n",
       "4   -0.464034 -0.540052  0.0\n",
       "..        ...       ...  ...\n",
       "395 -0.175511 -0.736175  0.0\n",
       "396 -0.647900  0.491626  1.0\n",
       "397 -1.354816 -1.499104  0.0\n",
       "398 -0.340094 -0.580274  0.0\n",
       "399 -0.088466  0.717414  1.0\n",
       "\n",
       "[400 rows x 3 columns]"
      ]
     },
     "execution_count": 67,
     "metadata": {},
     "output_type": "execute_result"
    }
   ],
   "source": [
    "# setting a shuffle over the rows of the data\n",
    "mix_data = mix_data.sample(frac = 1, ignore_index = True)\n",
    "mix_data"
   ]
  },
  {
   "cell_type": "code",
   "execution_count": null,
   "metadata": {},
   "outputs": [],
   "source": []
  },
  {
   "cell_type": "code",
   "execution_count": null,
   "metadata": {},
   "outputs": [],
   "source": []
  },
  {
   "cell_type": "code",
   "execution_count": null,
   "metadata": {},
   "outputs": [],
   "source": []
  },
  {
   "cell_type": "code",
   "execution_count": null,
   "metadata": {},
   "outputs": [],
   "source": []
  },
  {
   "cell_type": "code",
   "execution_count": null,
   "metadata": {},
   "outputs": [],
   "source": [
    "## here we use map function over a vector of length iterations to simulate repeat function in R\n",
    "\n",
    "iterations = 20\n",
    "itr_list = list(map(lambda _: np.random.randint(7), [None]*iterations))\n"
   ]
  },
  {
   "cell_type": "code",
   "execution_count": null,
   "metadata": {},
   "outputs": [],
   "source": [
    "npr.multivariate_normal(\n",
    "    size = 1,\n",
    "    mean = np.array([0,1]),\n",
    "    cov = (np.identity(2) / 5)\n",
    ")"
   ]
  },
  {
   "cell_type": "code",
   "execution_count": null,
   "metadata": {},
   "outputs": [],
   "source": [
    "npr.choice(4,1)"
   ]
  },
  {
   "cell_type": "code",
   "execution_count": null,
   "metadata": {},
   "outputs": [],
   "source": []
  }
 ],
 "metadata": {
  "kernelspec": {
   "display_name": "Python 3",
   "language": "python",
   "name": "python3"
  },
  "language_info": {
   "codemirror_mode": {
    "name": "ipython",
    "version": 3
   },
   "file_extension": ".py",
   "mimetype": "text/x-python",
   "name": "python",
   "nbconvert_exporter": "python",
   "pygments_lexer": "ipython3",
   "version": "3.10.0"
  }
 },
 "nbformat": 4,
 "nbformat_minor": 2
}
