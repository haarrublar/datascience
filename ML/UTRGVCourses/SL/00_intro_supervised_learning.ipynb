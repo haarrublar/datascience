{
 "cells": [
  {
   "cell_type": "markdown",
   "metadata": {},
   "source": [
    "## Intro\n",
    "\n",
    "The general objective is replicating the data points showed in ESL (Elements of Statistical Learning) book using Python instead of R in the graduate course **Statistical Learning** instructed by professor Dr. Tamer Oraby in The University of Texas Rio Grande Valley. \n",
    "\n",
    "The basic idea is using top machine learning libraries in Python such as Numpy and Tensorflow (this one better) instead of the coding in R performed at class. So, the principal goal to creating a mirror code based on the class."
   ]
  },
  {
   "cell_type": "code",
   "execution_count": 1,
   "metadata": {},
   "outputs": [],
   "source": [
    "## setting the seed for replication purposes\n",
    "import random\n",
    "random.seed(96)"
   ]
  },
  {
   "cell_type": "code",
   "execution_count": 24,
   "metadata": {},
   "outputs": [],
   "source": [
    "import numpy as np\n",
    "import tensorflow as tf\n",
    "import pandas as pd"
   ]
  },
  {
   "cell_type": "code",
   "execution_count": 23,
   "metadata": {},
   "outputs": [
    {
     "data": {
      "text/plain": [
       "(10, 2)"
      ]
     },
     "execution_count": 23,
     "metadata": {},
     "output_type": "execute_result"
    }
   ],
   "source": [
    "mean_blue = np.random.multivariate_normal(\n",
    "    size = 10,\n",
    "    mean = np.array([1,0]),\n",
    "    cov = np.identity(2) ## this 2D vector provides the 2D dimensionality to the the outcome vector (10x2)\n",
    ")\n",
    "mean_blue.shape"
   ]
  },
  {
   "cell_type": "code",
   "execution_count": 25,
   "metadata": {},
   "outputs": [
    {
     "data": {
      "text/html": [
       "<div>\n",
       "<style scoped>\n",
       "    .dataframe tbody tr th:only-of-type {\n",
       "        vertical-align: middle;\n",
       "    }\n",
       "\n",
       "    .dataframe tbody tr th {\n",
       "        vertical-align: top;\n",
       "    }\n",
       "\n",
       "    .dataframe thead th {\n",
       "        text-align: right;\n",
       "    }\n",
       "</style>\n",
       "<table border=\"1\" class=\"dataframe\">\n",
       "  <thead>\n",
       "    <tr style=\"text-align: right;\">\n",
       "      <th></th>\n",
       "      <th>cx</th>\n",
       "      <th>cy</th>\n",
       "    </tr>\n",
       "  </thead>\n",
       "  <tbody>\n",
       "    <tr>\n",
       "      <th>0</th>\n",
       "      <td>1.878700</td>\n",
       "      <td>0.882177</td>\n",
       "    </tr>\n",
       "    <tr>\n",
       "      <th>1</th>\n",
       "      <td>-0.020936</td>\n",
       "      <td>0.852710</td>\n",
       "    </tr>\n",
       "    <tr>\n",
       "      <th>2</th>\n",
       "      <td>1.488327</td>\n",
       "      <td>-0.986492</td>\n",
       "    </tr>\n",
       "    <tr>\n",
       "      <th>3</th>\n",
       "      <td>2.625926</td>\n",
       "      <td>-0.476701</td>\n",
       "    </tr>\n",
       "    <tr>\n",
       "      <th>4</th>\n",
       "      <td>0.381132</td>\n",
       "      <td>-1.471889</td>\n",
       "    </tr>\n",
       "    <tr>\n",
       "      <th>5</th>\n",
       "      <td>2.148419</td>\n",
       "      <td>1.250927</td>\n",
       "    </tr>\n",
       "    <tr>\n",
       "      <th>6</th>\n",
       "      <td>0.718860</td>\n",
       "      <td>-0.511845</td>\n",
       "    </tr>\n",
       "    <tr>\n",
       "      <th>7</th>\n",
       "      <td>1.289929</td>\n",
       "      <td>-1.222162</td>\n",
       "    </tr>\n",
       "    <tr>\n",
       "      <th>8</th>\n",
       "      <td>1.496258</td>\n",
       "      <td>-1.294345</td>\n",
       "    </tr>\n",
       "    <tr>\n",
       "      <th>9</th>\n",
       "      <td>-0.306098</td>\n",
       "      <td>0.563315</td>\n",
       "    </tr>\n",
       "  </tbody>\n",
       "</table>\n",
       "</div>"
      ],
      "text/plain": [
       "         cx        cy\n",
       "0  1.878700  0.882177\n",
       "1 -0.020936  0.852710\n",
       "2  1.488327 -0.986492\n",
       "3  2.625926 -0.476701\n",
       "4  0.381132 -1.471889\n",
       "5  2.148419  1.250927\n",
       "6  0.718860 -0.511845\n",
       "7  1.289929 -1.222162\n",
       "8  1.496258 -1.294345\n",
       "9 -0.306098  0.563315"
      ]
     },
     "execution_count": 25,
     "metadata": {},
     "output_type": "execute_result"
    }
   ],
   "source": [
    "df_mean_blue = pd.DataFrame(\n",
    "    data = mean_blue,\n",
    "    columns = ['cx','cy']\n",
    ")\n",
    "df_mean_blue"
   ]
  },
  {
   "cell_type": "code",
   "execution_count": 40,
   "metadata": {},
   "outputs": [],
   "source": [
    "from plotnine import * \n",
    "import matplotlib.pyplot as plt"
   ]
  },
  {
   "cell_type": "code",
   "execution_count": 72,
   "metadata": {},
   "outputs": [],
   "source": [
    "## creating the same theme as used in R\n",
    "plt.style.use('ggplot')\n",
    "\n",
    "plt_mean_blue = df_mean_blue.plot.scatter(\n",
    "    x = 'cx',\n",
    "    y = 'cy',\n",
    "    c = 'blue'\n",
    ")"
   ]
  },
  {
   "cell_type": "code",
   "execution_count": 56,
   "metadata": {},
   "outputs": [],
   "source": [
    "ggplot_mean_blue = ggplot(df_mean_blue) + aes(x= 'cx', y='cy') + geom_point(colour=\"blue\") + xlab('x') + ylab('y')"
   ]
  },
  {
   "cell_type": "code",
   "execution_count": 51,
   "metadata": {},
   "outputs": [
    {
     "data": {
      "text/plain": [
       "(10, 2)"
      ]
     },
     "execution_count": 51,
     "metadata": {},
     "output_type": "execute_result"
    }
   ],
   "source": [
    "mean_orange = np.random.multivariate_normal(\n",
    "    size = 10,\n",
    "    mean = np.array([0,1]),\n",
    "    cov = np.identity(2) ## this 2D vector provides the 2D dimensionality to the the outcome vector (10x2)\n",
    ")\n",
    "mean_orange.shape"
   ]
  },
  {
   "cell_type": "code",
   "execution_count": 52,
   "metadata": {},
   "outputs": [
    {
     "data": {
      "text/html": [
       "<div>\n",
       "<style scoped>\n",
       "    .dataframe tbody tr th:only-of-type {\n",
       "        vertical-align: middle;\n",
       "    }\n",
       "\n",
       "    .dataframe tbody tr th {\n",
       "        vertical-align: top;\n",
       "    }\n",
       "\n",
       "    .dataframe thead th {\n",
       "        text-align: right;\n",
       "    }\n",
       "</style>\n",
       "<table border=\"1\" class=\"dataframe\">\n",
       "  <thead>\n",
       "    <tr style=\"text-align: right;\">\n",
       "      <th></th>\n",
       "      <th>cx</th>\n",
       "      <th>cy</th>\n",
       "    </tr>\n",
       "  </thead>\n",
       "  <tbody>\n",
       "    <tr>\n",
       "      <th>0</th>\n",
       "      <td>0.732762</td>\n",
       "      <td>-0.048245</td>\n",
       "    </tr>\n",
       "    <tr>\n",
       "      <th>1</th>\n",
       "      <td>-0.418415</td>\n",
       "      <td>0.926040</td>\n",
       "    </tr>\n",
       "    <tr>\n",
       "      <th>2</th>\n",
       "      <td>-1.303274</td>\n",
       "      <td>-0.061659</td>\n",
       "    </tr>\n",
       "    <tr>\n",
       "      <th>3</th>\n",
       "      <td>-0.520113</td>\n",
       "      <td>1.059298</td>\n",
       "    </tr>\n",
       "    <tr>\n",
       "      <th>4</th>\n",
       "      <td>0.608651</td>\n",
       "      <td>1.027199</td>\n",
       "    </tr>\n",
       "    <tr>\n",
       "      <th>5</th>\n",
       "      <td>1.687921</td>\n",
       "      <td>0.166954</td>\n",
       "    </tr>\n",
       "    <tr>\n",
       "      <th>6</th>\n",
       "      <td>-0.584350</td>\n",
       "      <td>1.292694</td>\n",
       "    </tr>\n",
       "    <tr>\n",
       "      <th>7</th>\n",
       "      <td>0.846342</td>\n",
       "      <td>1.531835</td>\n",
       "    </tr>\n",
       "    <tr>\n",
       "      <th>8</th>\n",
       "      <td>-1.217823</td>\n",
       "      <td>3.069038</td>\n",
       "    </tr>\n",
       "    <tr>\n",
       "      <th>9</th>\n",
       "      <td>-0.123268</td>\n",
       "      <td>0.369108</td>\n",
       "    </tr>\n",
       "  </tbody>\n",
       "</table>\n",
       "</div>"
      ],
      "text/plain": [
       "         cx        cy\n",
       "0  0.732762 -0.048245\n",
       "1 -0.418415  0.926040\n",
       "2 -1.303274 -0.061659\n",
       "3 -0.520113  1.059298\n",
       "4  0.608651  1.027199\n",
       "5  1.687921  0.166954\n",
       "6 -0.584350  1.292694\n",
       "7  0.846342  1.531835\n",
       "8 -1.217823  3.069038\n",
       "9 -0.123268  0.369108"
      ]
     },
     "execution_count": 52,
     "metadata": {},
     "output_type": "execute_result"
    }
   ],
   "source": [
    "df_mean_orange = pd.DataFrame(\n",
    "    data = mean_orange,\n",
    "    columns = ['cx','cy']\n",
    ")\n",
    "df_mean_orange"
   ]
  },
  {
   "cell_type": "code",
   "execution_count": 59,
   "metadata": {},
   "outputs": [],
   "source": [
    "## creating the same theme as used in R using matplotlib.pyplot\n",
    "plt.style.use('ggplot')\n",
    "\n",
    "plt_mean_orange = df_mean_orange.plot.scatter(\n",
    "    x = 'cx',\n",
    "    y = 'cy',\n",
    "    c = 'orange'\n",
    ")"
   ]
  },
  {
   "cell_type": "code",
   "execution_count": 78,
   "metadata": {},
   "outputs": [],
   "source": [
    "ggplot_mean_orange = ggplot(df_mean_orange) + aes(x= 'cx', y='cy') + geom_point(colour=\"orange\") + xlab('x') + ylab('y')"
   ]
  },
  {
   "cell_type": "code",
   "execution_count": null,
   "metadata": {},
   "outputs": [],
   "source": [
    "## joining plots"
   ]
  },
  {
   "cell_type": "code",
   "execution_count": 68,
   "metadata": {},
   "outputs": [
    {
     "data": {
      "image/png": "[encoded data removed]",
      "text/plain": [
       "<Figure size 640x480 with 1 Axes>"
      ]
     },
     "metadata": {},
     "output_type": "display_data"
    }
   ],
   "source": [
    "fig, ax = plt.subplots()\n",
    "\n",
    "df_mean_blue.plot.scatter(\n",
    "    x = 'cx',\n",
    "    y = 'cy',\n",
    "    c = 'blue',\n",
    "    ax=ax\n",
    ")\n",
    "df_mean_orange.plot.scatter(\n",
    "    x = 'cx',\n",
    "    y = 'cy',\n",
    "    c = 'orange',\n",
    "    ax=ax\n",
    ")\n",
    "\n",
    "plt.show()\n"
   ]
  },
  {
   "cell_type": "code",
   "execution_count": 90,
   "metadata": {},
   "outputs": [
    {
     "data": {
      "image/png": "[encoded data removed]"
     },
     "metadata": {
      "image/png": {
       "height": 480,
       "width": 640
      }
     },
     "output_type": "display_data"
    }
   ],
   "source": [
    "ggplot_mean_blue + geom_point(data=df_mean_orange, colour='orange') + aes(x='cx', y='cy') + xlab('x') + ylab('y')"
   ]
  },
  {
   "cell_type": "code",
   "execution_count": null,
   "metadata": {},
   "outputs": [],
   "source": []
  },
  {
   "cell_type": "code",
   "execution_count": null,
   "metadata": {},
   "outputs": [],
   "source": []
  },
  {
   "cell_type": "code",
   "execution_count": null,
   "metadata": {},
   "outputs": [],
   "source": []
  },
  {
   "cell_type": "code",
   "execution_count": null,
   "metadata": {},
   "outputs": [],
   "source": []
  }
 ],
 "metadata": {
  "kernelspec": {
   "display_name": "Python 3",
   "language": "python",
   "name": "python3"
  },
  "language_info": {
   "codemirror_mode": {
    "name": "ipython",
    "version": 3
   },
   "file_extension": ".py",
   "mimetype": "text/x-python",
   "name": "python",
   "nbconvert_exporter": "python",
   "pygments_lexer": "ipython3",
   "version": "3.10.0"
  }
 },
 "nbformat": 4,
 "nbformat_minor": 2
}
