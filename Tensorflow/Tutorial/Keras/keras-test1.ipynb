{
 "cells": [
  {
   "cell_type": "code",
   "execution_count": 38,
   "metadata": {},
   "outputs": [],
   "source": [
    "import tensorflow as tf\n",
    "import keras\n",
    "from keras import layers\n",
    "import numpy as np"
   ]
  },
  {
   "cell_type": "code",
   "execution_count": 65,
   "metadata": {},
   "outputs": [
    {
     "data": {
      "text/plain": [
       "<tf.Tensor: shape=(3, 4), dtype=float32, numpy=\n",
       "array([[-0.69751585, -0.89238983, -0.15444523, -0.1564925 ],\n",
       "       [-0.69751585, -0.89238983, -0.15444523, -0.1564925 ],\n",
       "       [-0.69751585, -0.89238983, -0.15444523, -0.1564925 ]],\n",
       "      dtype=float32)>"
      ]
     },
     "execution_count": 65,
     "metadata": {},
     "output_type": "execute_result"
    }
   ],
   "source": [
    "#set the sequential model with 3 layers\n",
    "tf.keras.utils.set_random_seed(96)\n",
    "model = keras.Sequential(\n",
    "    [\n",
    "        layers.Dense(units=2, activation='relu', name='layer1'),\n",
    "        layers.Dense(units=3, activation='relu', name='layer2'),\n",
    "        layers.Dense(units=4, name='layer3'),\n",
    "\n",
    "    ]\n",
    ")\n",
    "\n",
    "#call the sequential model\n",
    "x = tf.ones((3,3))\n",
    "y = model(x)\n",
    "y"
   ]
  },
  {
   "cell_type": "code",
   "execution_count": 66,
   "metadata": {},
   "outputs": [
    {
     "data": {
      "text/plain": [
       "<tf.Tensor: shape=(3, 4), dtype=float32, numpy=\n",
       "array([[-0.69751585, -0.89238983, -0.15444523, -0.1564925 ],\n",
       "       [-0.69751585, -0.89238983, -0.15444523, -0.1564925 ],\n",
       "       [-0.69751585, -0.89238983, -0.15444523, -0.1564925 ]],\n",
       "      dtype=float32)>"
      ]
     },
     "execution_count": 66,
     "metadata": {},
     "output_type": "execute_result"
    }
   ],
   "source": [
    "#equivalent model to the above\n",
    "tf.keras.utils.set_random_seed(96)\n",
    "layer1 = layers.Dense(units=2, activation='relu', name='layer1')\n",
    "layer2 = layers.Dense(units=3, activation='relu', name='layer2')\n",
    "layer3 = layers.Dense(units=4, name='layer3')\n",
    "#call the sequential model\n",
    "x = tf.ones((3,3))\n",
    "y = layer3(layer2(layer1(x)))\n",
    "y\n"
   ]
  },
  {
   "cell_type": "code",
   "execution_count": null,
   "metadata": {},
   "outputs": [],
   "source": []
  },
  {
   "cell_type": "code",
   "execution_count": null,
   "metadata": {},
   "outputs": [],
   "source": []
  },
  {
   "cell_type": "code",
   "execution_count": null,
   "metadata": {},
   "outputs": [],
   "source": []
  },
  {
   "cell_type": "code",
   "execution_count": null,
   "metadata": {},
   "outputs": [],
   "source": []
  },
  {
   "cell_type": "code",
   "execution_count": null,
   "metadata": {},
   "outputs": [],
   "source": []
  },
  {
   "cell_type": "code",
   "execution_count": null,
   "metadata": {},
   "outputs": [],
   "source": []
  }
 ],
 "metadata": {
  "kernelspec": {
   "display_name": "Python 3",
   "language": "python",
   "name": "python3"
  },
  "language_info": {
   "codemirror_mode": {
    "name": "ipython",
    "version": 3
   },
   "file_extension": ".py",
   "mimetype": "text/x-python",
   "name": "python",
   "nbconvert_exporter": "python",
   "pygments_lexer": "ipython3",
   "version": "3.10.13"
  }
 },
 "nbformat": 4,
 "nbformat_minor": 2
}
