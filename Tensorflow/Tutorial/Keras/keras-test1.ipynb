{
 "cells": [
  {
   "cell_type": "code",
   "execution_count": 1,
   "metadata": {},
   "outputs": [
    {
     "name": "stderr",
     "output_type": "stream",
     "text": [
      "2024-03-23 11:55:40.762788: I tensorflow/core/platform/cpu_feature_guard.cc:182] This TensorFlow binary is optimized to use available CPU instructions in performance-critical operations.\n",
      "To enable the following instructions: AVX2 FMA, in other operations, rebuild TensorFlow with the appropriate compiler flags.\n",
      "2024-03-23 11:55:45.920856: W tensorflow/compiler/tf2tensorrt/utils/py_utils.cc:38] TF-TRT Warning: Could not find TensorRT\n"
     ]
    }
   ],
   "source": [
    "import tensorflow as tf\n",
    "import keras\n",
    "from keras import layers\n",
    "import numpy as np"
   ]
  },
  {
   "cell_type": "code",
   "execution_count": 14,
   "metadata": {},
   "outputs": [
    {
     "data": {
      "text/plain": [
       "<tf.Tensor: shape=(3, 4), dtype=float32, numpy=\n",
       "array([[-0.69751585, -0.89238983, -0.15444523, -0.1564925 ],\n",
       "       [-0.69751585, -0.89238983, -0.15444523, -0.1564925 ],\n",
       "       [-0.69751585, -0.89238983, -0.15444523, -0.1564925 ]],\n",
       "      dtype=float32)>"
      ]
     },
     "execution_count": 14,
     "metadata": {},
     "output_type": "execute_result"
    }
   ],
   "source": [
    "#set seed\n",
    "tf.keras.utils.set_random_seed(96)\n",
    "\n",
    "#set the sequential model with 3 layers\n",
    "model = keras.Sequential(\n",
    "    [\n",
    "        layers.Dense(units=2, activation='relu', name='layer1'),\n",
    "        layers.Dense(units=3, activation='relu', name='layer2'),\n",
    "        layers.Dense(units=4, name='layer3'),\n",
    "\n",
    "    ]\n",
    ")\n",
    "\n",
    "#call the sequential model\n",
    "x = tf.ones((3,3))\n",
    "y = model(x)\n",
    "y"
   ]
  },
  {
   "cell_type": "code",
   "execution_count": 66,
   "metadata": {},
   "outputs": [
    {
     "data": {
      "text/plain": [
       "<tf.Tensor: shape=(3, 4), dtype=float32, numpy=\n",
       "array([[-0.69751585, -0.89238983, -0.15444523, -0.1564925 ],\n",
       "       [-0.69751585, -0.89238983, -0.15444523, -0.1564925 ],\n",
       "       [-0.69751585, -0.89238983, -0.15444523, -0.1564925 ]],\n",
       "      dtype=float32)>"
      ]
     },
     "execution_count": 66,
     "metadata": {},
     "output_type": "execute_result"
    }
   ],
   "source": [
    "#equivalent model to the above\n",
    "\n",
    "#set seed\n",
    "tf.keras.utils.set_random_seed(96)\n",
    "\n",
    "#set the sequential model with 3 layers\n",
    "layer1 = layers.Dense(units=2, activation='relu', name='layer1')\n",
    "layer2 = layers.Dense(units=3, activation='relu', name='layer2')\n",
    "layer3 = layers.Dense(units=4, name='layer3')\n",
    "#call the sequential model\n",
    "x = tf.ones((3,3))\n",
    "y = layer3(layer2(layer1(x)))\n",
    "y\n"
   ]
  },
  {
   "cell_type": "markdown",
   "metadata": {},
   "source": [
    "We conclude it is actually the same Sequential model constructions"
   ]
  },
  {
   "cell_type": "code",
   "execution_count": null,
   "metadata": {},
   "outputs": [],
   "source": []
  },
  {
   "cell_type": "code",
   "execution_count": null,
   "metadata": {},
   "outputs": [],
   "source": []
  },
  {
   "cell_type": "code",
   "execution_count": null,
   "metadata": {},
   "outputs": [],
   "source": []
  },
  {
   "cell_type": "code",
   "execution_count": null,
   "metadata": {},
   "outputs": [],
   "source": []
  },
  {
   "cell_type": "code",
   "execution_count": null,
   "metadata": {},
   "outputs": [],
   "source": []
  }
 ],
 "metadata": {
  "kernelspec": {
   "display_name": "Python 3",
   "language": "python",
   "name": "python3"
  },
  "language_info": {
   "codemirror_mode": {
    "name": "ipython",
    "version": 3
   },
   "file_extension": ".py",
   "mimetype": "text/x-python",
   "name": "python",
   "nbconvert_exporter": "python",
   "pygments_lexer": "ipython3",
   "version": "3.10.13"
  }
 },
 "nbformat": 4,
 "nbformat_minor": 2
}
